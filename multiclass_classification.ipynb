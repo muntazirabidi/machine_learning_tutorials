{
  "nbformat": 4,
  "nbformat_minor": 0,
  "metadata": {
    "colab": {
      "provenance": [],
      "authorship_tag": "ABX9TyMGU2MTQH8KXkCYm2Ca2cTA",
      "include_colab_link": true
    },
    "kernelspec": {
      "name": "python3",
      "display_name": "Python 3"
    },
    "language_info": {
      "name": "python"
    }
  },
  "cells": [
    {
      "cell_type": "markdown",
      "metadata": {
        "id": "view-in-github",
        "colab_type": "text"
      },
      "source": [
        "<a href=\"https://colab.research.google.com/github/muntazirabidi/machine_learning_tutorials/blob/main/multiclass_classification.ipynb\" target=\"_parent\"><img src=\"https://colab.research.google.com/assets/colab-badge.svg\" alt=\"Open In Colab\"/></a>"
      ]
    },
    {
      "cell_type": "markdown",
      "source": [
        "# Multiclass Classification"
      ],
      "metadata": {
        "id": "fSz_Wjy3e63B"
      }
    },
    {
      "cell_type": "markdown",
      "source": [
        "Multiclass classification is the task of classifying instances into one of three or more classes. For example, classifying a set of images as \"dog,\" \"cat,\" \"bird,\" or \"fish\" would be a multiclass classification problem.\n",
        "\n",
        "There are several approaches to multiclass classification, including one-versus-all and one-versus-one. In one-versus-all (OVA) classification, a separate binary classifier is trained for each class, with the class being classified as \"positive\" and all other classes as \"negative.\" For example, in the \"dog,\" \"cat,\" \"bird,\" \"fish\" classification problem, four classifiers would be trained: one to distinguish dogs from non-dogs, one to distinguish cats from non-cats, one to distinguish birds from non-birds, and one to distinguish fish from non-fish.\n",
        "\n",
        "In one-versus-one (OVO) classification, a binary classifier is trained for every pair of classes. For the \"dog,\" \"cat,\" \"bird,\" \"fish\" classification problem, this would result in six classifiers being trained: one to distinguish dogs from cats, one to distinguish dogs from birds, one to distinguish dogs from fish, one to distinguish cats from birds, one to distinguish cats from fish, and one to distinguish birds from fish.\n",
        "\n",
        "There are pros and cons to both approaches. OVA can be more efficient, as it requires training fewer classifiers, but it can be less effective if the \"negative\" class is highly diverse. OVO requires training more classifiers, but each classifier only has to distinguish between two classes, which can make it more effective."
      ],
      "metadata": {
        "id": "F-7ZKQP0e9hN"
      }
    },
    {
      "cell_type": "code",
      "execution_count": 1,
      "metadata": {
        "id": "hHJMOjUCe0vc"
      },
      "outputs": [],
      "source": []
    },
    {
      "cell_type": "code",
      "source": [],
      "metadata": {
        "id": "mrM3ydTye6CM"
      },
      "execution_count": null,
      "outputs": []
    }
  ]
}