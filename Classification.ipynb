{
  "nbformat": 4,
  "nbformat_minor": 0,
  "metadata": {
    "colab": {
      "provenance": [],
      "mount_file_id": "1q7ySeZL9g6Vl3UcuKRYKWlZcOzAuQGgz",
      "authorship_tag": "ABX9TyMOfGCPd2J17JPpUXTlQ3ZX",
      "include_colab_link": true
    },
    "kernelspec": {
      "name": "python3",
      "display_name": "Python 3"
    },
    "language_info": {
      "name": "python"
    }
  },
  "cells": [
    {
      "cell_type": "markdown",
      "metadata": {
        "id": "view-in-github",
        "colab_type": "text"
      },
      "source": [
        "<a href=\"https://colab.research.google.com/github/muntazirabidi/machine_learning_tutorials/blob/main/Classification.ipynb\" target=\"_parent\"><img src=\"https://colab.research.google.com/assets/colab-badge.svg\" alt=\"Open In Colab\"/></a>"
      ]
    },
    {
      "cell_type": "markdown",
      "source": [
        "#MNIST Dataset\n",
        "\n",
        "MNIST (Modified National Institute of Standards and Technology) is a dataset of images of handwritten digits, originally developed by Yann LeCun and his team at the Department of Computer Science and Electrical Engineering at the University of Maryland. The dataset is often used to train and evaluate machine learning models for image classification tasks. It consists of a training set of 60,000 images and a test set of 10,000 images, all of which are 28x28 grayscale images of handwritten digits from 0 to 9. The images are pre-processed and normalized, and the task is to classify each image into one of the 10 digit classes. MNIST is a widely used dataset in the field of machine learning and is considered a \"Hello, World!\" example for image classification algorithms.\n",
        "\n",
        "scikit-Learn provides manmy helper functions to download popular datasets. MNIST is one of them. \n"
      ],
      "metadata": {
        "id": "CzgJYeb8wg-H"
      }
    },
    {
      "cell_type": "code",
      "source": [
        "from sklearn.datasets import fetch_openml"
      ],
      "metadata": {
        "id": "CgYbqU3ZkrNU"
      },
      "execution_count": 29,
      "outputs": []
    },
    {
      "cell_type": "code",
      "source": [
        "mnist = fetch_openml('mnist_784', version=1)\n",
        "mnist.keys()"
      ],
      "metadata": {
        "colab": {
          "base_uri": "https://localhost:8080/"
        },
        "id": "eJzxbtbPcJlj",
        "outputId": "cb03bda0-5d40-4459-c8ed-e85f82360176"
      },
      "execution_count": 30,
      "outputs": [
        {
          "output_type": "execute_result",
          "data": {
            "text/plain": [
              "dict_keys(['data', 'target', 'frame', 'categories', 'feature_names', 'target_names', 'DESCR', 'details', 'url'])"
            ]
          },
          "metadata": {},
          "execution_count": 30
        }
      ]
    },
    {
      "cell_type": "code",
      "source": [
        "import numpy as np\n",
        "X, y = mnist['data'], mnist['target']\n",
        "print(x.shape)\n",
        "print(y.shape)\n",
        "\n"
      ],
      "metadata": {
        "colab": {
          "base_uri": "https://localhost:8080/"
        },
        "id": "FCGrR6RKcgNf",
        "outputId": "e861d38c-0a6d-4b2a-81d2-f3733273d3b2"
      },
      "execution_count": 31,
      "outputs": [
        {
          "output_type": "stream",
          "name": "stdout",
          "text": [
            "(70000, 784)\n",
            "(70000,)\n"
          ]
        }
      ]
    },
    {
      "cell_type": "code",
      "source": [
        "from IPython.display import set_matplotlib_formats\n",
        "import matplotlib as mpl\n",
        "import matplotlib.pyplot as plt \n",
        "some_digit = X.to_numpy()[0]\n",
        "some_digit_image = some_digit.reshape(28,28)\n",
        "plt.imshow(some_digit_image,cmap=\"binary\")\n",
        "plt.axis('off')\n",
        "plt.show()"
      ],
      "metadata": {
        "colab": {
          "base_uri": "https://localhost:8080/",
          "height": 248
        },
        "id": "hTx6nuJBc8Ie",
        "outputId": "117ef3f1-92b2-4450-8466-673048e5e608"
      },
      "execution_count": 32,
      "outputs": [
        {
          "output_type": "display_data",
          "data": {
            "text/plain": [
              "<Figure size 432x288 with 1 Axes>"
            ],
            "image/png": "[encoded data removed]"
          },
          "metadata": {
            "needs_background": "light"
          }
        }
      ]
    },
    {
      "cell_type": "code",
      "source": [
        "y=y.astype(np.uint8)"
      ],
      "metadata": {
        "id": "mr2NiwkBdtNW"
      },
      "execution_count": 36,
      "outputs": []
    },
    {
      "cell_type": "code",
      "source": [
        "X_train, X_test, y_train, y_test = X.to_numpy()[:60000], X.to_numpy()[60000:], y.to_numpy()[:60000], y.to_numpy()[60000:]"
      ],
      "metadata": {
        "id": "Iv8_8WMedcFE"
      },
      "execution_count": 58,
      "outputs": []
    },
    {
      "cell_type": "markdown",
      "source": [
        "# Training a Binary Classifier \n",
        "\n",
        "A binary classifier is a machine learning model that makes predictions about a binary outcome. The outcome is either one of two possible classes, labeled as positive or negative. For example, a binary classifier might be used to predict whether an email is spam (positive class) or not spam (negative class). The classifier would be trained on a dataset of labeled emails and would learn to predict the class of an email based on features of the email such as the subject line, the sender, and the content of the message. When given a new email, the classifier would output a prediction of whether the email is spam or not.\n",
        "\n",
        "Lets only try to identify one digit, lets say 5. This is an example of a binary classifier, distinguishing between just two classes. "
      ],
      "metadata": {
        "id": "cVZA3qyPw3YS"
      }
    },
    {
      "cell_type": "code",
      "source": [
        "# Binary Classifier\n",
        "y_train_5 = (y_train == 5)\n",
        "y_test_5 = (y_test == 5)"
      ],
      "metadata": {
        "id": "b5mHQQuLiwSF"
      },
      "execution_count": 59,
      "outputs": []
    },
    {
      "cell_type": "code",
      "source": [
        "from sklearn.linear_model import SGDClassifier\n",
        "sgd_clf = SGDClassifier(random_state=42)\n",
        "sgd_clf.fit(X_train, y_train)"
      ],
      "metadata": {
        "colab": {
          "base_uri": "https://localhost:8080/"
        },
        "id": "rcNwiqSZmz4Y",
        "outputId": "1120fa7d-6e84-449a-a554-3340d4fa3cf3"
      },
      "execution_count": 60,
      "outputs": [
        {
          "output_type": "execute_result",
          "data": {
            "text/plain": [
              "SGDClassifier(random_state=42)"
            ]
          },
          "metadata": {},
          "execution_count": 60
        }
      ]
    },
    {
      "cell_type": "code",
      "source": [
        "sgd_clf.predict([some_digit])"
      ],
      "metadata": {
        "colab": {
          "base_uri": "https://localhost:8080/"
        },
        "id": "h-9ZhuG-nItn",
        "outputId": "9a94ebe1-6da2-4cdc-9eb2-78be4a38e4ee"
      },
      "execution_count": 67,
      "outputs": [
        {
          "output_type": "execute_result",
          "data": {
            "text/plain": [
              "array([3], dtype=uint8)"
            ]
          },
          "metadata": {},
          "execution_count": 67
        }
      ]
    },
    {
      "cell_type": "markdown",
      "source": [
        "# Measuring Accuracy Using Cross-Validation\n",
        "\n",
        "A good way to evaluate a model is to use the cross-validation.\n",
        "\n",
        "*'StratifiedKFold*' is a K-fold cross-validation iterator that returns stratified folds. Stratified folds means that the proportions of the different classes in the folds are the same as the proportions of the different classes in the entire dataset. This is particularly useful for datasets where the distribution of classes is unbalanced, as it ensures that each fold has a representative ratio of classes. This can be useful in cases where the model's performance depends on the relative proportions of the classes in the training and testing data."
      ],
      "metadata": {
        "id": "Y-4FqRSYnUNV"
      }
    },
    {
      "cell_type": "code",
      "source": [
        "from sklearn.model_selection import StratifiedKFold\n",
        "from sklearn.base import clone\n",
        "\n",
        "skfolds = StratifiedKFold(n_splits = 3, shuffle=True, random_state=42)\n",
        "\n",
        "for train_index, test_index in skfolds.split(X_train, y_train_5):\n",
        "  #print(train_index, test_index)\n",
        "  clone_clf = clone(sgd_clf)\n",
        "  X_train_folds = X_train[train_index]\n",
        "  y_train_folds = y_train_5[train_index]  \n",
        "\n",
        "  X_test_fold = X_train[test_index]\n",
        "  y_test_fold = y_train_5[test_index]\n",
        "\n",
        "  clone_clf.fit(X_train_folds, y_train_folds)\n",
        "  y_pred = clone_clf.predict(X_test_fold)\n",
        "  n_correct = sum(y_pred == y_test_fold)\n",
        "  print(n_correct / len(y_pred))\n"
      ],
      "metadata": {
        "colab": {
          "base_uri": "https://localhost:8080/"
        },
        "id": "jc1qsl5pnQAl",
        "outputId": "4a3c3b8b-a40c-4f22-9f9b-779afc0599fd"
      },
      "execution_count": 68,
      "outputs": [
        {
          "output_type": "stream",
          "name": "stdout",
          "text": [
            "0.9669\n",
            "0.91625\n",
            "0.96785\n"
          ]
        }
      ]
    },
    {
      "cell_type": "code",
      "source": [
        "# lets use the build-in function to evaluate the model \n",
        "\n",
        "from sklearn.model_selection import cross_val_score\n",
        "\n",
        "cross_val_score(sgd_clf, X_train, y_train_5, cv=3, scoring='accuracy')"
      ],
      "metadata": {
        "colab": {
          "base_uri": "https://localhost:8080/"
        },
        "id": "1JKtinIRn9-b",
        "outputId": "bd3fef0e-36c0-4614-b60e-3a009403d664"
      },
      "execution_count": 69,
      "outputs": [
        {
          "output_type": "execute_result",
          "data": {
            "text/plain": [
              "array([0.95035, 0.96035, 0.9604 ])"
            ]
          },
          "metadata": {},
          "execution_count": 69
        }
      ]
    },
    {
      "cell_type": "markdown",
      "source": [
        "Above 93% accuracy is amazing! But before we get too excited, lets look at a very dumb classifier that just classifies every single digit image in the \"not-5\" class:"
      ],
      "metadata": {
        "id": "dH_HJZROyy4_"
      }
    },
    {
      "cell_type": "code",
      "source": [
        "from sklearn.base import BaseEstimator\n",
        "\n",
        "class Never5Classifier(BaseEstimator):\n",
        "  def fit(self, X, y=None):\n",
        "    return self\n",
        "  def predict(self, X):\n",
        "    return np.zeros((len(X),1), dtype=bool)"
      ],
      "metadata": {
        "id": "QLLBI3q5rz59"
      },
      "execution_count": 75,
      "outputs": []
    },
    {
      "cell_type": "markdown",
      "source": [
        "Lets try to find out the accuracy of this classifier. "
      ],
      "metadata": {
        "id": "tL5T_ezLzbM-"
      }
    },
    {
      "cell_type": "code",
      "source": [
        "never_5_clf = Never5Classifier()\n",
        "cross_val_score(never_5_clf, X_train, y_train_5, cv=3, scoring= 'accuracy')"
      ],
      "metadata": {
        "colab": {
          "base_uri": "https://localhost:8080/"
        },
        "id": "e-D9ks_vzZXg",
        "outputId": "8e883f99-f966-449b-8c91-26d4359ddd96"
      },
      "execution_count": 76,
      "outputs": [
        {
          "output_type": "execute_result",
          "data": {
            "text/plain": [
              "array([0.91125, 0.90855, 0.90915])"
            ]
          },
          "metadata": {},
          "execution_count": 76
        }
      ]
    },
    {
      "cell_type": "markdown",
      "source": [
        "This is simply because only about 10% of the images are 5s, so if you always guess that an image is not a 5, you will be right about 90% of the time. This shows why accuracy is not a good preferred performance measure for classifiers, especially when you are dealing with skewed datasets.\n",
        "\n",
        "## Why accuracy is not a good performance measure?\n",
        "\n",
        "Accuracy is not always the best performance measure for classifiers because it can be misleading in certain cases. For example, consider a binary classifier that is trying to predict whether a patient has a certain disease or not. If the disease is rare, the classifier could simply predict that every patient does not have the disease, and it would be correct most of the time. However, this classifier would not be very useful because it is not able to detect the rare positive cases.\n",
        "\n",
        "In such cases, it is more informative to look at other performance measures such as precision, recall, and F1 score. Precision measures the proportion of positive predictions that are actually correct, while recall measures the proportion of actual positive cases that were correctly predicted. The F1 score is the harmonic mean of precision and recall, and it is often used as a single metric to evaluate the performance of a classifier.\n",
        "\n",
        "In summary, accuracy is a useful performance measure, but it can be misleading in cases where the classes are imbalanced or the consequences of false predictions are not the same for both classes. In such cases, it is important to consider other performance measures as well.\n",
        "\n",
        "# Confusion Matrix\n",
        "\n",
        "A confusion matrix is a table that is used to evaluate the performance of a classifier. It helps to visualize the number of correct and incorrect predictions made by the classifier and allows you to calculate various performance metrics such as precision, recall, and F1 score.\n",
        "\n",
        "The confusion matrix is often used in the field of machine learning and data mining. It is a table with two rows and two columns, and contains the following information:\n",
        "\n",
        "1. **True Positives (TP)**: These are cases where the classifier predicted the positive class, and the true class was also the positive class.\n",
        "2. **True Negatives (TN)**: These are cases where the classifier predicted the negative class, and the true class was also the negative class.\n",
        "3. **False Positives (FP)**: These are cases where the classifier predicted the positive class, but the true class was the negative class. These are also known as \"Type I errors.\"\n",
        "4. **False Negatives (FN)**: These are cases where the classifier predicted the negative class, but the true class was the positive class. These are also known as \"Type II errors.\"\n",
        "\n",
        "Using the values in the confusion matrix, you can calculate various performance metrics such as precision, recall, and F1 score. For example, **precision is calculated as TP / (TP + FP)**, and **recall is calculated as TP / (TP + FN)**. The F1 score is the harmonic mean of precision and recall.\n",
        "\n"
      ],
      "metadata": {
        "id": "WYzgHF8X0LdN"
      }
    },
    {
      "cell_type": "code",
      "source": [
        "from google.colab import files\n",
        "from io import BytesIO\n",
        "from PIL import Image\n",
        "\n",
        "uploaded = files.upload()\n",
        "im = Image.open(BytesIO(uploaded['matrix.webp']))"
      ],
      "metadata": {
        "colab": {
          "base_uri": "https://localhost:8080/",
          "height": 73
        },
        "id": "s00LlO3zzwSV",
        "outputId": "060a5ff2-6a29-41c6-f160-44f321bffe41"
      },
      "execution_count": 78,
      "outputs": [
        {
          "output_type": "display_data",
          "data": {
            "text/plain": [
              "<IPython.core.display.HTML object>"
            ],
            "text/html": [
              "\n",
              "     <input type=\"file\" id=\"files-751d42ad-c42d-496e-b3e5-a7ecc1440442\" name=\"files[]\" multiple disabled\n",
              "        style=\"border:none\" />\n",
              "     <output id=\"result-751d42ad-c42d-496e-b3e5-a7ecc1440442\">\n",
              "      Upload widget is only available when the cell has been executed in the\n",
              "      current browser session. Please rerun this cell to enable.\n",
              "      </output>\n",
              "      <script>// Copyright 2017 Google LLC\n",
              "//\n",
              "// Licensed under the Apache License, Version 2.0 (the \"License\");\n",
              "// you may not use this file except in compliance with the License.\n",
              "// You may obtain a copy of the License at\n",
              "//\n",
              "//      http://www.apache.org/licenses/LICENSE-2.0\n",
              "//\n",
              "// Unless required by applicable law or agreed to in writing, software\n",
              "// distributed under the License is distributed on an \"AS IS\" BASIS,\n",
              "// WITHOUT WARRANTIES OR CONDITIONS OF ANY KIND, either express or implied.\n",
              "// See the License for the specific language governing permissions and\n",
              "// limitations under the License.\n",
              "\n",
              "/**\n",
              " * @fileoverview Helpers for google.colab Python module.\n",
              " */\n",
              "(function(scope) {\n",
              "function span(text, styleAttributes = {}) {\n",
              "  const element = document.createElement('span');\n",
              "  element.textContent = text;\n",
              "  for (const key of Object.keys(styleAttributes)) {\n",
              "    element.style[key] = styleAttributes[key];\n",
              "  }\n",
              "  return element;\n",
              "}\n",
              "\n",
              "// Max number of bytes which will be uploaded at a time.\n",
              "const MAX_PAYLOAD_SIZE = 100 * 1024;\n",
              "\n",
              "function _uploadFiles(inputId, outputId) {\n",
              "  const steps = uploadFilesStep(inputId, outputId);\n",
              "  const outputElement = document.getElementById(outputId);\n",
              "  // Cache steps on the outputElement to make it available for the next call\n",
              "  // to uploadFilesContinue from Python.\n",
              "  outputElement.steps = steps;\n",
              "\n",
              "  return _uploadFilesContinue(outputId);\n",
              "}\n",
              "\n",
              "// This is roughly an async generator (not supported in the browser yet),\n",
              "// where there are multiple asynchronous steps and the Python side is going\n",
              "// to poll for completion of each step.\n",
              "// This uses a Promise to block the python side on completion of each step,\n",
              "// then passes the result of the previous step as the input to the next step.\n",
              "function _uploadFilesContinue(outputId) {\n",
              "  const outputElement = document.getElementById(outputId);\n",
              "  const steps = outputElement.steps;\n",
              "\n",
              "  const next = steps.next(outputElement.lastPromiseValue);\n",
              "  return Promise.resolve(next.value.promise).then((value) => {\n",
              "    // Cache the last promise value to make it available to the next\n",
              "    // step of the generator.\n",
              "    outputElement.lastPromiseValue = value;\n",
              "    return next.value.response;\n",
              "  });\n",
              "}\n",
              "\n",
              "/**\n",
              " * Generator function which is called between each async step of the upload\n",
              " * process.\n",
              " * @param {string} inputId Element ID of the input file picker element.\n",
              " * @param {string} outputId Element ID of the output display.\n",
              " * @return {!Iterable<!Object>} Iterable of next steps.\n",
              " */\n",
              "function* uploadFilesStep(inputId, outputId) {\n",
              "  const inputElement = document.getElementById(inputId);\n",
              "  inputElement.disabled = false;\n",
              "\n",
              "  const outputElement = document.getElementById(outputId);\n",
              "  outputElement.innerHTML = '';\n",
              "\n",
              "  const pickedPromise = new Promise((resolve) => {\n",
              "    inputElement.addEventListener('change', (e) => {\n",
              "      resolve(e.target.files);\n",
              "    });\n",
              "  });\n",
              "\n",
              "  const cancel = document.createElement('button');\n",
              "  inputElement.parentElement.appendChild(cancel);\n",
              "  cancel.textContent = 'Cancel upload';\n",
              "  const cancelPromise = new Promise((resolve) => {\n",
              "    cancel.onclick = () => {\n",
              "      resolve(null);\n",
              "    };\n",
              "  });\n",
              "\n",
              "  // Wait for the user to pick the files.\n",
              "  const files = yield {\n",
              "    promise: Promise.race([pickedPromise, cancelPromise]),\n",
              "    response: {\n",
              "      action: 'starting',\n",
              "    }\n",
              "  };\n",
              "\n",
              "  cancel.remove();\n",
              "\n",
              "  // Disable the input element since further picks are not allowed.\n",
              "  inputElement.disabled = true;\n",
              "\n",
              "  if (!files) {\n",
              "    return {\n",
              "      response: {\n",
              "        action: 'complete',\n",
              "      }\n",
              "    };\n",
              "  }\n",
              "\n",
              "  for (const file of files) {\n",
              "    const li = document.createElement('li');\n",
              "    li.append(span(file.name, {fontWeight: 'bold'}));\n",
              "    li.append(span(\n",
              "        `(${file.type || 'n/a'}) - ${file.size} bytes, ` +\n",
              "        `last modified: ${\n",
              "            file.lastModifiedDate ? file.lastModifiedDate.toLocaleDateString() :\n",
              "                                    'n/a'} - `));\n",
              "    const percent = span('0% done');\n",
              "    li.appendChild(percent);\n",
              "\n",
              "    outputElement.appendChild(li);\n",
              "\n",
              "    const fileDataPromise = new Promise((resolve) => {\n",
              "      const reader = new FileReader();\n",
              "      reader.onload = (e) => {\n",
              "        resolve(e.target.result);\n",
              "      };\n",
              "      reader.readAsArrayBuffer(file);\n",
              "    });\n",
              "    // Wait for the data to be ready.\n",
              "    let fileData = yield {\n",
              "      promise: fileDataPromise,\n",
              "      response: {\n",
              "        action: 'continue',\n",
              "      }\n",
              "    };\n",
              "\n",
              "    // Use a chunked sending to avoid message size limits. See b/62115660.\n",
              "    let position = 0;\n",
              "    do {\n",
              "      const length = Math.min(fileData.byteLength - position, MAX_PAYLOAD_SIZE);\n",
              "      const chunk = new Uint8Array(fileData, position, length);\n",
              "      position += length;\n",
              "\n",
              "      const base64 = btoa(String.fromCharCode.apply(null, chunk));\n",
              "      yield {\n",
              "        response: {\n",
              "          action: 'append',\n",
              "          file: file.name,\n",
              "          data: base64,\n",
              "        },\n",
              "      };\n",
              "\n",
              "      let percentDone = fileData.byteLength === 0 ?\n",
              "          100 :\n",
              "          Math.round((position / fileData.byteLength) * 100);\n",
              "      percent.textContent = `${percentDone}% done`;\n",
              "\n",
              "    } while (position < fileData.byteLength);\n",
              "  }\n",
              "\n",
              "  // All done.\n",
              "  yield {\n",
              "    response: {\n",
              "      action: 'complete',\n",
              "    }\n",
              "  };\n",
              "}\n",
              "\n",
              "scope.google = scope.google || {};\n",
              "scope.google.colab = scope.google.colab || {};\n",
              "scope.google.colab._files = {\n",
              "  _uploadFiles,\n",
              "  _uploadFilesContinue,\n",
              "};\n",
              "})(self);\n",
              "</script> "
            ]
          },
          "metadata": {}
        },
        {
          "output_type": "stream",
          "name": "stdout",
          "text": [
            "Saving matrix.webp to matrix (1).webp\n"
          ]
        }
      ]
    },
    {
      "cell_type": "code",
      "source": [
        "plt.imshow(im)\n",
        "plt.show()"
      ],
      "metadata": {
        "colab": {
          "base_uri": "https://localhost:8080/",
          "height": 269
        },
        "id": "U0aq6_Ut3QGN",
        "outputId": "e42ba9a1-922e-4e87-fafe-8d2066260886"
      },
      "execution_count": 79,
      "outputs": [
        {
          "output_type": "display_data",
          "data": {
            "text/plain": [
              "<Figure size 432x288 with 1 Axes>"
            ],
            "image/png": "[encoded data removed]"
          },
          "metadata": {
            "needs_background": "light"
          }
        }
      ]
    },
    {
      "cell_type": "code",
      "source": [],
      "metadata": {
        "id": "YfGM4wdT3bkO"
      },
      "execution_count": null,
      "outputs": []
    }
  ]
}